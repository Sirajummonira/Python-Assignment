{
  "cells": [
    {
      "cell_type": "markdown",
      "metadata": {
        "id": "0Os6Bjpzpj6M"
      },
      "source": [
        "Student: Sirajum Monira Bipasha 2325118 and student id (OID): 1.2.246.562.24.47437189544\n",
        "Read in data in bb.csv. The fourth column contains a value that should be predicted based on three first column values.\n",
        "\n",
        "Standardise the values (no need to split into training, validation and test sets), and then\n",
        "\n",
        "* Create a regularised (use sum of weights squared regularisation) model to see the coefficient point estimates\n",
        "* Create a Bayesian variant of the same model, compare the model parameter means to point estamates and report findings. Record also uncertainty of the parameters (the co-variance matrix sigma).\n",
        "* Create a Bayesiam model by creating pymc model and sample from it. Use both Normal and Uniform priors for the parameters - are there any differences? Compare the statistics calculated from samples with the previous step and report findings."
      ]
    },
    {
      "cell_type": "code",
      "execution_count": 1,
      "metadata": {
        "id": "fD-GaWHWpj6O"
      },
      "outputs": [],
      "source": [
        "import numpy as np\n",
        "import matplotlib.pyplot as plt\n",
        "import sklearn\n",
        "import pymc as pm\n",
        "import scipy\n",
        "\n",
        "from sklearn.linear_model import Ridge, BayesianRidge\n",
        "from sklearn.preprocessing import StandardScaler"
      ]
    },
    {
      "cell_type": "code",
      "execution_count": 2,
      "metadata": {
        "id": "-I4dUswWpj6P"
      },
      "outputs": [],
      "source": [
        "bb_data = np.loadtxt('/content/bb.csv', delimiter=',', dtype=float, skiprows=1)"
      ]
    },
    {
      "cell_type": "code",
      "execution_count": 3,
      "metadata": {
        "id": "WBqZlq0Vpj6P"
      },
      "outputs": [],
      "source": [
        "# test\n",
        "assert(bb_data.shape[0] == 41)\n",
        "assert(bb_data.shape[1] == 4)"
      ]
    },
    {
      "cell_type": "code",
      "execution_count": 4,
      "metadata": {
        "id": "ga9M5aeupj6Q"
      },
      "outputs": [],
      "source": [
        "x = bb_data[:, :-1]\n",
        "y = bb_data[:,-1]\n",
        "\n",
        "scaler = StandardScaler().fit(x)\n",
        "scaled_x = scaler.transform(x)"
      ]
    },
    {
      "cell_type": "code",
      "execution_count": 5,
      "metadata": {
        "colab": {
          "base_uri": "https://localhost:8080/"
        },
        "id": "Xqw8e74Npj6R",
        "outputId": "1643c351-c714-4f78-e17e-ca6612287758"
      },
      "outputs": [
        {
          "output_type": "stream",
          "name": "stdout",
          "text": [
            "[ 1.36620647  2.20515635 -8.1574815 ]\n"
          ]
        }
      ],
      "source": [
        "model_ridge = Ridge().fit(scaled_x,y)\n",
        "print(model_ridge.coef_)"
      ]
    },
    {
      "cell_type": "code",
      "execution_count": 6,
      "metadata": {
        "colab": {
          "base_uri": "https://localhost:8080/"
        },
        "id": "HjMnJIlApj6R",
        "outputId": "2f8e33ef-7e1b-444e-8332-d2c4f895a2e6"
      },
      "outputs": [
        {
          "output_type": "stream",
          "name": "stdout",
          "text": [
            "[ 0.12185417  0.53522567 -0.92685202]\n",
            "[[ 0.00872365  0.00805709 -0.00304749]\n",
            " [ 0.00805709  0.0598579  -0.00436602]\n",
            " [-0.00304749 -0.00436602  0.01113733]]\n"
          ]
        }
      ],
      "source": [
        "model_bayesianridge = BayesianRidge().fit(x,y)\n",
        "print(model_bayesianridge.coef_)\n",
        "print(model_bayesianridge.sigma_)"
      ]
    },
    {
      "cell_type": "code",
      "execution_count": 9,
      "metadata": {
        "colab": {
          "base_uri": "https://localhost:8080/",
          "height": 50,
          "referenced_widgets": [
            "07c406105f44485c876113f31345762e",
            "b5b039dbe58c4c75a27c7b20bbd659d3",
            "5462658997c44480bd6b7e333c6c2a4c",
            "cc057a1190784cfd9741cb117b4e6bc0"
          ]
        },
        "id": "P3b-psXcpj6R",
        "outputId": "c1db50c6-4b4c-41d9-b13a-f8e141ebf427"
      },
      "outputs": [
        {
          "output_type": "display_data",
          "data": {
            "text/plain": [
              "Output()"
            ],
            "application/vnd.jupyter.widget-view+json": {
              "version_major": 2,
              "version_minor": 0,
              "model_id": "07c406105f44485c876113f31345762e"
            }
          },
          "metadata": {}
        },
        {
          "output_type": "display_data",
          "data": {
            "text/plain": [],
            "text/html": [
              "<pre style=\"white-space:pre;overflow-x:auto;line-height:normal;font-family:Menlo,'DejaVu Sans Mono',consolas,'Courier New',monospace\"></pre>\n"
            ]
          },
          "metadata": {}
        },
        {
          "output_type": "display_data",
          "data": {
            "text/plain": [
              "Output()"
            ],
            "application/vnd.jupyter.widget-view+json": {
              "version_major": 2,
              "version_minor": 0,
              "model_id": "5462658997c44480bd6b7e333c6c2a4c"
            }
          },
          "metadata": {}
        },
        {
          "output_type": "display_data",
          "data": {
            "text/plain": [],
            "text/html": [
              "<pre style=\"white-space:pre;overflow-x:auto;line-height:normal;font-family:Menlo,'DejaVu Sans Mono',consolas,'Courier New',monospace\"></pre>\n"
            ]
          },
          "metadata": {}
        }
      ],
      "source": [
        "initial_model = pm.Model()\n",
        "\n",
        "with initial_model:\n",
        "\n",
        "    # Priors for unknown model parameters\n",
        "    # ...\n",
        "    w0 = pm.Normal(\"w0\", mu=0, sigma=10)\n",
        "    w1 = pm.Normal(\"w1\", mu=0, sigma=10)\n",
        "    w2 = pm.Normal(\"w2\", mu=0, sigma=10)\n",
        "    w3 = pm.Normal(\"w3\", mu=0, sigma=10)\n",
        "    # Expected value of outcome\n",
        "    mu = w0 + w1*x[:,0] + w2*x[:,1] + w3*x[:,2]\n",
        "\n",
        "    # Likelihood (sampling distribution) of observations\n",
        "    y_obs = pm.Normal(\"y_obs\", mu=mu, observed=y)\n",
        "\n",
        "    # draw posterior samples\n",
        "    trace = pm.sample(3000, tune=2000)"
      ]
    },
    {
      "cell_type": "code",
      "execution_count": 20,
      "metadata": {
        "colab": {
          "base_uri": "https://localhost:8080/",
          "height": 466
        },
        "id": "eNfvyqoQpj6R",
        "outputId": "4b63f393-d638-4ffd-8efe-e5a4eb281f16"
      },
      "outputs": [
        {
          "output_type": "display_data",
          "data": {
            "text/plain": [
              "<Figure size 1000x600 with 1 Axes>"
            ],
            "image/png": "[encoded data removed]"
          },
          "metadata": {}
        }
      ],
      "source": [
        "\n",
        "plt.figure(figsize=(10, 6))\n",
        "\n",
        "for w, color in zip(['w1', 'w2', 'w3'], ['b', 'g', 'r']):\n",
        "    pm.plot_posterior(trace, label=f\"{w}\", color=color, ax=plt.gca())\n",
        "plt.legend()\n",
        "plt.show()"
      ]
    }
  ],
  "metadata": {
    "kernelspec": {
      "display_name": "Python 3.10.4 ('it00ew28')",
      "language": "python",
      "name": "python3"
    },
    "language_info": {
      "codemirror_mode": {
        "name": "ipython",
        "version": 3
      },
      "file_extension": ".py",
      "mimetype": "text/x-python",
      "name": "python",
      "nbconvert_exporter": "python",
      "pygments_lexer": "ipython3",
      "version": "3.10.4"
    },
    "orig_nbformat": 4,
    "vscode": {
      "interpreter": {
        "hash": "69d130accf71c10616f7b0b32746f4cb329da8206ac283f5a69ee58859df0b50"
      }
    },
    "colab": {
      "provenance": []
    },
    "widgets": {
      "application/vnd.jupyter.widget-state+json": {
        "07c406105f44485c876113f31345762e": {
          "model_module": "@jupyter-widgets/output",
          "model_name": "OutputModel",
          "model_module_version": "1.0.0",
          "state": {
            "_dom_classes": [],
            "_model_module": "@jupyter-widgets/output",
            "_model_module_version": "1.0.0",
            "_model_name": "OutputModel",
            "_view_count": null,
            "_view_module": "@jupyter-widgets/output",
            "_view_module_version": "1.0.0",
            "_view_name": "OutputView",
            "layout": "IPY_MODEL_b5b039dbe58c4c75a27c7b20bbd659d3",
            "msg_id": "",
            "outputs": [
              {
                "output_type": "display_data",
                "data": {
                  "text/plain": "Sampling chain 0, 0 divergences \u001b[32m━━━━━━━━━━━━━━━━━━━━━━━━━━━━━━━━━━━━━━━━\u001b[0m \u001b[35m100%\u001b[0m \u001b[36m0:00:00\u001b[0m / \u001b[33m0:01:12\u001b[0m\n",
                  "text/html": "<pre style=\"white-space:pre;overflow-x:auto;line-height:normal;font-family:Menlo,'DejaVu Sans Mono',consolas,'Courier New',monospace\">Sampling chain 0, 0 divergences <span style=\"color: #008000; text-decoration-color: #008000\">━━━━━━━━━━━━━━━━━━━━━━━━━━━━━━━━━━━━━━━━</span> <span style=\"color: #800080; text-decoration-color: #800080\">100%</span> <span style=\"color: #008080; text-decoration-color: #008080\">0:00:00</span> / <span style=\"color: #808000; text-decoration-color: #808000\">0:01:12</span>\n</pre>\n"
                },
                "metadata": {}
              }
            ]
          }
        },
        "b5b039dbe58c4c75a27c7b20bbd659d3": {
          "model_module": "@jupyter-widgets/base",
          "model_name": "LayoutModel",
          "model_module_version": "1.2.0",
          "state": {
            "_model_module": "@jupyter-widgets/base",
            "_model_module_version": "1.2.0",
            "_model_name": "LayoutModel",
            "_view_count": null,
            "_view_module": "@jupyter-widgets/base",
            "_view_module_version": "1.2.0",
            "_view_name": "LayoutView",
            "align_content": null,
            "align_items": null,
            "align_self": null,
            "border": null,
            "bottom": null,
            "display": null,
            "flex": null,
            "flex_flow": null,
            "grid_area": null,
            "grid_auto_columns": null,
            "grid_auto_flow": null,
            "grid_auto_rows": null,
            "grid_column": null,
            "grid_gap": null,
            "grid_row": null,
            "grid_template_areas": null,
            "grid_template_columns": null,
            "grid_template_rows": null,
            "height": null,
            "justify_content": null,
            "justify_items": null,
            "left": null,
            "margin": null,
            "max_height": null,
            "max_width": null,
            "min_height": null,
            "min_width": null,
            "object_fit": null,
            "object_position": null,
            "order": null,
            "overflow": null,
            "overflow_x": null,
            "overflow_y": null,
            "padding": null,
            "right": null,
            "top": null,
            "visibility": null,
            "width": null
          }
        },
        "5462658997c44480bd6b7e333c6c2a4c": {
          "model_module": "@jupyter-widgets/output",
          "model_name": "OutputModel",
          "model_module_version": "1.0.0",
          "state": {
            "_dom_classes": [],
            "_model_module": "@jupyter-widgets/output",
            "_model_module_version": "1.0.0",
            "_model_name": "OutputModel",
            "_view_count": null,
            "_view_module": "@jupyter-widgets/output",
            "_view_module_version": "1.0.0",
            "_view_name": "OutputView",
            "layout": "IPY_MODEL_cc057a1190784cfd9741cb117b4e6bc0",
            "msg_id": "",
            "outputs": [
              {
                "output_type": "display_data",
                "data": {
                  "text/plain": "Sampling chain 1, 0 divergences \u001b[32m━━━━━━━━━━━━━━━━━━━━━━━━━━━━━━━━━━━━━━━━\u001b[0m \u001b[35m100%\u001b[0m \u001b[36m0:00:00\u001b[0m / \u001b[33m0:01:07\u001b[0m\n",
                  "text/html": "<pre style=\"white-space:pre;overflow-x:auto;line-height:normal;font-family:Menlo,'DejaVu Sans Mono',consolas,'Courier New',monospace\">Sampling chain 1, 0 divergences <span style=\"color: #008000; text-decoration-color: #008000\">━━━━━━━━━━━━━━━━━━━━━━━━━━━━━━━━━━━━━━━━</span> <span style=\"color: #800080; text-decoration-color: #800080\">100%</span> <span style=\"color: #008080; text-decoration-color: #008080\">0:00:00</span> / <span style=\"color: #808000; text-decoration-color: #808000\">0:01:07</span>\n</pre>\n"
                },
                "metadata": {}
              }
            ]
          }
        },
        "cc057a1190784cfd9741cb117b4e6bc0": {
          "model_module": "@jupyter-widgets/base",
          "model_name": "LayoutModel",
          "model_module_version": "1.2.0",
          "state": {
            "_model_module": "@jupyter-widgets/base",
            "_model_module_version": "1.2.0",
            "_model_name": "LayoutModel",
            "_view_count": null,
            "_view_module": "@jupyter-widgets/base",
            "_view_module_version": "1.2.0",
            "_view_name": "LayoutView",
            "align_content": null,
            "align_items": null,
            "align_self": null,
            "border": null,
            "bottom": null,
            "display": null,
            "flex": null,
            "flex_flow": null,
            "grid_area": null,
            "grid_auto_columns": null,
            "grid_auto_flow": null,
            "grid_auto_rows": null,
            "grid_column": null,
            "grid_gap": null,
            "grid_row": null,
            "grid_template_areas": null,
            "grid_template_columns": null,
            "grid_template_rows": null,
            "height": null,
            "justify_content": null,
            "justify_items": null,
            "left": null,
            "margin": null,
            "max_height": null,
            "max_width": null,
            "min_height": null,
            "min_width": null,
            "object_fit": null,
            "object_position": null,
            "order": null,
            "overflow": null,
            "overflow_x": null,
            "overflow_y": null,
            "padding": null,
            "right": null,
            "top": null,
            "visibility": null,
            "width": null
          }
        }
      }
    }
  },
  "nbformat": 4,
  "nbformat_minor": 0
}