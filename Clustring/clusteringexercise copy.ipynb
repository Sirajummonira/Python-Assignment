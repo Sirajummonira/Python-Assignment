{
  "cells": [
    {
      "cell_type": "markdown",
      "metadata": {
        "id": "wB0AcNQnYXlA"
      },
      "source": [
        "\n",
        "\n",
        "Sirajum Monira Bipasha and ID: 2325118"
      ]
    },
    {
      "cell_type": "markdown",
      "metadata": {
        "id": "zfnp8xaJYXlC",
        "nbgrader": {
          "grade": false,
          "grade_id": "cell-9be32c3a22d51f62",
          "locked": true,
          "schema_version": 3,
          "solution": false,
          "task": false
        }
      },
      "source": [
        "### Exercise: Clustering\n",
        "\n",
        "File exercise5.csv contains synthetic data about salary, housecare time, height and weight of some individuals. It also contains an indicator variable M/F to indicate whether the individual in question is female/male. In this exercise you should try out both KMeans and GaussianMixture (note: we will discuss GMM in 27th Nov meeting but you can get started with the exercise now) to cluster the individuals based on salary, housecare time, height and weight (ie. don't use the M/F information in clustering).\n",
        "\n",
        "After clustering, try and analyse how well the clustering worked out by comparing statistics of the clusters with statistics calculated from the data (in this step you can use the M/F indicator variable)."
      ]
    },
    {
      "cell_type": "code",
      "execution_count": null,
      "metadata": {
        "id": "8H8ILQiGYXlD"
      },
      "outputs": [],
      "source": [
        "import numpy as np\n",
        "from numpy import genfromtxt\n",
        "import matplotlib.pyplot as plt\n",
        "from sklearn.preprocessing import StandardScaler\n",
        "from sklearn.model_selection import train_test_split\n",
        "from sklearn.decomposition import PCA\n",
        "from sklearn.svm import SVC\n",
        "from sklearn.svm import LinearSVC\n",
        "from sklearn.linear_model import LogisticRegression\n",
        "from sklearn.cluster import KMeans\n",
        "from scipy.stats import norm\n",
        "import math\n",
        "from sklearn.mixture import GaussianMixture\n",
        "from sklearn.linear_model import LinearRegression\n",
        "from scipy.stats import multivariate_normal\n",
        "from sklearn.discriminant_analysis import LinearDiscriminantAnalysis\n",
        "import numpy as np\n",
        "from numpy import genfromtxt\n",
        "from sklearn.cluster import KMeans\n",
        "from sklearn.preprocessing import StandardScaler\n",
        "from sklearn.mixture import GaussianMixture\n",
        "import matplotlib.pyplot as plt\n",
        "from sklearn.mixture import GaussianMixture"
      ]
    },
    {
      "cell_type": "markdown",
      "metadata": {
        "id": "wFk0yYJLYXlF"
      },
      "source": [
        "#### Step 1: Read input (1p)\n",
        "\n",
        "Read in the dataset in exercise3.csv. Check genfromtxt() documentation and choose right delimiter and skip_header parameter values."
      ]
    },
    {
      "cell_type": "code",
      "execution_count": null,
      "metadata": {
        "id": "-UV2qeRNYXlF",
        "nbgrader": {
          "grade": false,
          "grade_id": "cell-69ef15d7d8c724d7",
          "locked": false,
          "schema_version": 3,
          "solution": true,
          "task": false
        },
        "colab": {
          "base_uri": "https://localhost:8080/"
        },
        "outputId": "2fbe8632-b9f1-47b4-8825-89dcef71e957"
      },
      "outputs": [
        {
          "output_type": "stream",
          "name": "stdout",
          "text": [
            "(51, 5)\n",
            "(51, 5)\n"
          ]
        }
      ],
      "source": [
        "data = genfromtxt('/content/clustering.csv', delimiter=',', skip_header=1) # Changed skip_header to 1 and delimiter to ','\n",
        "print(data.shape)\n",
        "print(data.shape)"
      ]
    },
    {
      "cell_type": "code",
      "execution_count": null,
      "metadata": {
        "id": "JYlmCq6eYXlF",
        "nbgrader": {
          "grade": true,
          "grade_id": "cell-afbe3c9a43536b5e",
          "locked": true,
          "points": 1,
          "schema_version": 3,
          "solution": false,
          "task": false
        }
      },
      "outputs": [],
      "source": [
        "assert(data.shape[1] == 5)"
      ]
    },
    {
      "cell_type": "markdown",
      "metadata": {
        "id": "iW0Azd5KYXlG"
      },
      "source": [
        "#### Step 2: Scale (1p)"
      ]
    },
    {
      "cell_type": "code",
      "execution_count": null,
      "metadata": {
        "id": "3FUhTyxzYXlH",
        "nbgrader": {
          "grade": false,
          "grade_id": "cell-9444d8ce33604abd",
          "locked": false,
          "schema_version": 3,
          "solution": true,
          "task": false
        }
      },
      "outputs": [],
      "source": [
        "# assign to x the data excluding class info (last column) that gets assigned to y\n",
        "# scale x data (assign scaler object to variable scaler) and assign to scaled_x\n",
        "\n",
        "x = data[:,:-1]\n",
        "y = data[:,:-1]\n",
        "scaler = StandardScaler()\n",
        "#scaled_x = scaler.fit_transform(x)\n",
        "scaled_x = scaler.fit_transform(x.reshape(-1, 1) if x.ndim == 1 else x)"
      ]
    },
    {
      "cell_type": "code",
      "execution_count": null,
      "metadata": {
        "id": "tzbF0C9PYXlH",
        "nbgrader": {
          "grade": true,
          "grade_id": "cell-890bacfb6f07417f",
          "locked": true,
          "points": 1,
          "schema_version": 3,
          "solution": false,
          "task": false
        }
      },
      "outputs": [],
      "source": [
        "#if this cell passes silently, data shapes are ok\n",
        "assert(x.shape[1] == 4)\n",
        "assert(y.shape[0] == 51)\n",
        "assert(scaled_x.shape[1] == 4)\n",
        "assert(scaled_x.shape[0] ==51)"
      ]
    },
    {
      "cell_type": "markdown",
      "metadata": {
        "id": "WtkB6a77YXlI"
      },
      "source": [
        "#### Step 3: KMeans clustering (2p)\n",
        "\n",
        "Cluster the data with KMeans. Assign the fitted KMeans object to variable kmeans. Compute per cluster means and compare with from sample data."
      ]
    },
    {
      "cell_type": "markdown",
      "source": [],
      "metadata": {
        "id": "Q94xH75IZcJx"
      }
    },
    {
      "cell_type": "code",
      "execution_count": null,
      "metadata": {
        "id": "dw58CVLaYXlJ",
        "nbgrader": {
          "grade": false,
          "grade_id": "cell-10048fd3ed865ae6",
          "locked": false,
          "schema_version": 3,
          "solution": true,
          "task": false
        },
        "colab": {
          "base_uri": "https://localhost:8080/"
        },
        "outputId": "1aeb4ca8-f253-4bfe-fbb8-4cb24c863e48"
      },
      "outputs": [
        {
          "output_type": "stream",
          "name": "stdout",
          "text": [
            "Cluster means [[ 1.49087091 -0.54391507  1.17467911 -0.29392207]\n",
            " [-0.41665275  0.86333926 -0.86812121 -0.34523639]\n",
            " [-0.05771527 -0.69027537  0.49435968  0.43875705]]\n"
          ]
        }
      ],
      "source": [
        "kmeans = KMeans(n_clusters=2, random_state=0).fit(scaled_x)\n",
        "kmeans = KMeans(n_clusters=3, random_state=42).fit(scaled_x)\n",
        "print(\"Cluster means\", kmeans.cluster_centers_)"
      ]
    },
    {
      "cell_type": "code",
      "execution_count": null,
      "metadata": {
        "id": "cjOZW-GOYXlJ",
        "colab": {
          "base_uri": "https://localhost:8080/"
        },
        "outputId": "edb2cdc8-98fc-4e8d-9286-8c19f099ff55"
      },
      "outputs": [
        {
          "output_type": "stream",
          "name": "stdout",
          "text": [
            "Cluster 0 means [3767.          161.          180.28571429   70.42857143]\n",
            "Cluster 1 means [2680.45454545  248.40909091  158.68181818   69.68181818]\n"
          ]
        }
      ],
      "source": [
        "# print out feature means for the clusters\n",
        "print(\"Cluster 0 means\", np.mean(scaler.inverse_transform(scaled_x[kmeans.labels_ == 0]),axis=0))\n",
        "print(\"Cluster 1 means\", np.mean(scaler.inverse_transform(scaled_x[kmeans.labels_ == 1]),axis=0))"
      ]
    },
    {
      "cell_type": "markdown",
      "metadata": {
        "id": "MFhnxY2OYXlJ"
      },
      "source": [
        "#### Step 4: GMM (2p)\n",
        "\n",
        "Perform soft (Gaussian) clustering of the data. Compare the per class cluster means with means from sample data."
      ]
    },
    {
      "cell_type": "code",
      "execution_count": null,
      "metadata": {
        "id": "YxUhUoW_YXlK",
        "nbgrader": {
          "grade": false,
          "grade_id": "cell-0a6bbb1b6a347001",
          "locked": false,
          "schema_version": 3,
          "solution": true,
          "task": false
        },
        "colab": {
          "base_uri": "https://localhost:8080/"
        },
        "outputId": "381cac8d-6039-4070-abb2-8e6168cd411a"
      },
      "outputs": [
        {
          "output_type": "stream",
          "name": "stdout",
          "text": [
            "Cluster means [[ 0.30252334 -0.56081336  0.62137303  0.18924439]\n",
            " [-0.46236019  0.85711657 -0.94967268 -0.28923081]]\n"
          ]
        }
      ],
      "source": [
        "gmm = GaussianMixture(n_components=2, random_state=0).fit(scaled_x)\n",
        "print(\"Cluster means\", gmm.means_)\n",
        "#print(\"Cluster means\", ...)"
      ]
    },
    {
      "cell_type": "markdown",
      "metadata": {
        "id": "-zFffXHbYXlK"
      },
      "source": [
        "#### Step 5: Looking at the results (3p)\n",
        "\n",
        "Please answer in the cell below.\n",
        "\n",
        "1. What is the purpose of scaler.inverse_transform() call? Could you avoid it?\n",
        "2. Which set of mean values represents cluster of females? Does it match the label (0 / 1)? Should it match? Why / why not?\n",
        "3. Compare the statistics (means, stds etc) from clustered data with those calculated from real sample classes. Any noticable differences?\n",
        "\n",
        "Answer:\n",
        "1. The scaler.inverse_transform() method is used to revert scaled or normalized data back to its original scale. This is useful when you need to interpret the results in the original units (e.g.,Salary, height). If wants to avoid to this if we don't need to compare predictions to the original data scale.The results are acceptable in the scaled form (e.g.for classification or clustering).Then only need the transformed features for the model (not the target).\n",
        "2. k-means clustering assigned Cluster 1 to females due to its lower mean height, 158.68 cm, than Cluster 0 with a height of 180.29 cm, which better represents male characteristics.\n",
        "The labels are either 0 or 1 and do not necessarily match gender. Clustering algorithms, such as K-means, assign cluster IDs arbitrarily, so Cluster 1 could represent females even if it's labeled as 0, and Cluster 0 could represent males or another group, depending on the features.\n",
        "No, cluster labels do not have to match gender because clustering assigns arbitrary labels. What matters is an interpretation of the feature values, not the cluster ID.\n",
        "3. Differences may occur because the clustering algorithms are grouping based on feature similarities rather than explicitly using the gender label.\n",
        "KMeans Cluster Means:\n",
        "Cluster 0 Means: [3129.21, 153.57, 174.86, 79.21]\n",
        "Cluster 1 Means: [2660.39, 244.96, 159.35, 69.22]\n",
        "Salary (Cluster 0 is higher) Housecare Time (Cluster 1 is higher)\n",
        "Height (Cluster 0 is taller)\n",
        "Weight (Cluster 0 is heavier)\n",
        "First Cluster ([0.3025, -0.5608, 0.6214, 0.1892]):\n",
        "Salary: slightly above average (0.3025)\n",
        "Housecare Time: below average (-0.5608)\n",
        "Height: above average (0.6214)\n",
        "Weight: slightly above average (0.1892)\n",
        "Second Cluster ([-0.4624, 0.8571, -0.9497, -0.2892]):\n",
        "Salary: below average (-0.4624)\n",
        "Housecare Time: above average (0.8571)\n",
        "Height: below average (-0.9497)\n",
        "Weight: below average (-0.2892)"
      ]
    }
  ],
  "metadata": {
    "celltoolbar": "Create Assignment",
    "colab": {
      "provenance": []
    },
    "kernelspec": {
      "display_name": "Python 3 (ipykernel)",
      "language": "python",
      "name": "python3"
    },
    "language_info": {
      "codemirror_mode": {
        "name": "ipython",
        "version": 3
      },
      "file_extension": ".py",
      "mimetype": "text/x-python",
      "name": "python",
      "nbconvert_exporter": "python",
      "pygments_lexer": "ipython3",
      "version": "3.9.7"
    }
  },
  "nbformat": 4,
  "nbformat_minor": 0
}